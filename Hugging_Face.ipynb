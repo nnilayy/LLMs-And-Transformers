{
  "nbformat": 4,
  "nbformat_minor": 0,
  "metadata": {
    "colab": {
      "provenance": [],
      "authorship_tag": "ABX9TyO4L7Y+FDhNz1mGZxYVnj6S",
      "include_colab_link": true
    },
    "kernelspec": {
      "name": "python3",
      "display_name": "Python 3"
    },
    "language_info": {
      "name": "python"
    }
  },
  "cells": [
    {
      "cell_type": "markdown",
      "metadata": {
        "id": "view-in-github",
        "colab_type": "text"
      },
      "source": [
        "<a href=\"https://colab.research.google.com/github/nnilayy/LLMs-And-Transformers/blob/main/Hugging_Face.ipynb\" target=\"_parent\"><img src=\"https://colab.research.google.com/assets/colab-badge.svg\" alt=\"Open In Colab\"/></a>"
      ]
    },
    {
      "cell_type": "code",
      "source": [
        "!pip install transformers"
      ],
      "metadata": {
        "id": "R1v8m0oYdzC2"
      },
      "execution_count": null,
      "outputs": []
    },
    {
      "cell_type": "markdown",
      "source": [
        "# Basics\n"
      ],
      "metadata": {
        "id": "nP4xqPG38Vdl"
      }
    },
    {
      "cell_type": "markdown",
      "source": [
        "## Sentiment Analysis"
      ],
      "metadata": {
        "id": "57w_Foq68DbJ"
      }
    },
    {
      "cell_type": "code",
      "execution_count": null,
      "metadata": {
        "colab": {
          "base_uri": "https://localhost:8080/"
        },
        "id": "BByFM0aadcQL",
        "outputId": "9465dcd0-e2b7-4d48-81f6-176c877194fc"
      },
      "outputs": [
        {
          "output_type": "execute_result",
          "data": {
            "text/plain": [
              "[{'label': 'POSITIVE', 'score': 0.984700083732605}]"
            ]
          },
          "metadata": {},
          "execution_count": 28
        }
      ],
      "source": [
        "# Sentiment Analsysis\n",
        "from transformers import pipeline\n",
        "\n",
        "classifier = pipeline(\"sentiment-analysis\",model=\"distilbert-base-uncased-finetuned-sst-2-english\")\n",
        "classifier(\"horrible piece of nice trash.\")"
      ]
    },
    {
      "cell_type": "markdown",
      "source": [
        "## Zero Shot Classification"
      ],
      "metadata": {
        "id": "p_7IPB118GfX"
      }
    },
    {
      "cell_type": "code",
      "source": [
        "from transformers import pipeline\n",
        "\n",
        "classifier = pipeline(\"zero-shot-classification\", model=\"facebook/bart-large-mnli\")\n",
        "classifier(\n",
        "    \"This is a shit movie about Goverment the Transformers library\",\n",
        "    candidate_labels=[\"movies\", \"politics\", \"business\"],\n",
        ")"
      ],
      "metadata": {
        "id": "iVf8byZUequc"
      },
      "execution_count": null,
      "outputs": []
    },
    {
      "cell_type": "markdown",
      "source": [
        "## Text Generation"
      ],
      "metadata": {
        "id": "iA5X2H7Q8NMc"
      }
    },
    {
      "cell_type": "code",
      "source": [
        "# Text Generation\n",
        "from transformers import pipeline\n",
        "\n",
        "generator = pipeline(\"text-generation\", model=\"distilgpt2\")\n",
        "generator(\n",
        "    \"Model distilgpt2 repeats the words after some times, this is because\",\n",
        "    max_length=100,\n",
        "    num_return_sequences=2,\n",
        ")\n",
        "# A perfect example of model Hallucinatuion"
      ],
      "metadata": {
        "id": "OnO1AMcrgANa"
      },
      "execution_count": null,
      "outputs": []
    },
    {
      "cell_type": "markdown",
      "source": [
        "## Mask Filling"
      ],
      "metadata": {
        "id": "vTDroWaz8RqH"
      }
    },
    {
      "cell_type": "code",
      "source": [
        "# Mask Filling Model\n",
        "from transformers import pipeline\n",
        "\n",
        "unmasker = pipeline(\"fill-mask\", model=\"distilroberta-base\")\n",
        "unmasker(\"This course will teach you all about <mask> models.\", top_k=2)"
      ],
      "metadata": {
        "id": "smFyFAWkg4Nj"
      },
      "execution_count": null,
      "outputs": []
    },
    {
      "cell_type": "markdown",
      "source": [
        "## Named Entity Recognition"
      ],
      "metadata": {
        "id": "gYPRPl3k6-xo"
      }
    },
    {
      "cell_type": "code",
      "source": [
        "# Named Entity Recognition\n",
        "from transformers import pipeline\n",
        "\n",
        "ner = pipeline(\"ner\",model='dbmdz/bert-large-cased-finetuned-conll03-english', grouped_entities=True)\n",
        "ner(\"hey there, I am Nilay and the Text Generation model above was hallucinating.\")"
      ],
      "metadata": {
        "colab": {
          "base_uri": "https://localhost:8080/"
        },
        "id": "5ocSPrRHhrYy",
        "outputId": "0e9ef3f1-8e6f-4798-eacc-7f93a9c7cfca"
      },
      "execution_count": null,
      "outputs": [
        {
          "output_type": "execute_result",
          "data": {
            "text/plain": [
              "[{'entity_group': 'PER',\n",
              "  'score': 0.9974254,\n",
              "  'word': 'Nilay',\n",
              "  'start': 16,\n",
              "  'end': 21},\n",
              " {'entity_group': 'MISC',\n",
              "  'score': 0.56624573,\n",
              "  'word': 'Text',\n",
              "  'start': 30,\n",
              "  'end': 34},\n",
              " {'entity_group': 'ORG',\n",
              "  'score': 0.7065201,\n",
              "  'word': 'Generation',\n",
              "  'start': 35,\n",
              "  'end': 45}]"
            ]
          },
          "metadata": {},
          "execution_count": 33
        }
      ]
    },
    {
      "cell_type": "markdown",
      "source": [
        "## QnA"
      ],
      "metadata": {
        "id": "-xyQWy36607y"
      }
    },
    {
      "cell_type": "code",
      "source": [
        "# Question and Answering\n",
        "from transformers import pipeline\n",
        "\n",
        "question_answerer = pipeline(\"question-answering\",  model=\"distilbert-base-cased-distilled-squad\")\n",
        "question_answerer(\n",
        "    question=\"Where do I sleep?\",\n",
        "    context=\"My name is Sylvain and I work at Hugging Face in Brooklyn\",\n",
        ")"
      ],
      "metadata": {
        "colab": {
          "base_uri": "https://localhost:8080/"
        },
        "id": "Z0MSWTD_jreM",
        "outputId": "edcf821e-11cb-4bed-bff5-084be80e1e4a"
      },
      "execution_count": null,
      "outputs": [
        {
          "output_type": "execute_result",
          "data": {
            "text/plain": [
              "{'score': 0.48142537474632263,\n",
              " 'start': 33,\n",
              " 'end': 45,\n",
              " 'answer': 'Hugging Face'}"
            ]
          },
          "metadata": {},
          "execution_count": 37
        }
      ]
    },
    {
      "cell_type": "markdown",
      "source": [
        "## Summarization"
      ],
      "metadata": {
        "id": "czPrxhan6qNb"
      }
    },
    {
      "cell_type": "code",
      "source": [
        "# Summarization\n",
        "from transformers import pipeline\n",
        "\n",
        "summarizer = pipeline(\"summarization\",model=\"sshleifer/distilbart-cnn-12-6\")\n",
        "summarizer(\n",
        "    \"\"\"\n",
        "    America has changed dramatically during recent years. Not only has the number of\n",
        "    graduates in traditional engineering disciplines such as mechanical, civil,\n",
        "    electrical, chemical, and aeronautical engineering declined, but in most of\n",
        "    the premier American universities engineering curricula now concentrate on\n",
        "    and encourage largely the study of engineering science. As a result, there\n",
        "    are declining offerings in engineering subjects dealing with infrastructure,\n",
        "    the environment, and related issues, and greater concentration on high\n",
        "    technology subjects, largely supporting increasingly complex scientific\n",
        "    developments. While the latter is important, it should not be at the expense\n",
        "    of more traditional engineering.\n",
        "\n",
        "    Rapidly developing economies such as China and India, as well as other\n",
        "    industrial countries in Europe and Asia, continue to encourage and advance\n",
        "    the teaching of engineering. Both China and India, respectively, graduate\n",
        "    six and eight times as many traditional engineers as does the United States.\n",
        "    Other industrial countries at minimum maintain their output, while America\n",
        "    suffers an increasingly serious decline in the number of engineering graduates\n",
        "    and a lack of well-educated engineers.\n",
        "\"\"\"\n",
        ")"
      ],
      "metadata": {
        "id": "UVyYdqf25iTA"
      },
      "execution_count": null,
      "outputs": []
    },
    {
      "cell_type": "markdown",
      "source": [
        "## Translation"
      ],
      "metadata": {
        "id": "f8KLCfhZ65Ac"
      }
    },
    {
      "cell_type": "code",
      "source": [
        "!pip install sentencepiece"
      ],
      "metadata": {
        "id": "XNU-RXBk7NL_"
      },
      "execution_count": null,
      "outputs": []
    },
    {
      "cell_type": "code",
      "source": [
        "# French to English Translation\n",
        "from transformers import pipeline\n",
        "import sentencepiece\n",
        "translator = pipeline(\"translation\", model=\"Helsinki-NLP/opus-mt-fr-en\")\n",
        "translator(\"Ce cours est produit par Hugging Face.\")"
      ],
      "metadata": {
        "id": "5C5YMe4Y6ktV"
      },
      "execution_count": null,
      "outputs": []
    },
    {
      "cell_type": "markdown",
      "source": [
        "# Inside the Pipeline Function"
      ],
      "metadata": {
        "id": "pVDrxc5x8oXW"
      }
    },
    {
      "cell_type": "code",
      "source": [],
      "metadata": {
        "id": "Y6p9l2sk8iaF"
      },
      "execution_count": null,
      "outputs": []
    }
  ]
}