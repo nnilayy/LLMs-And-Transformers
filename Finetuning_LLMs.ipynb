{
  "nbformat": 4,
  "nbformat_minor": 0,
  "metadata": {
    "colab": {
      "provenance": [],
      "collapsed_sections": [
        "zDzlsa_bMIMJ",
        "HUu5u_u4neF7",
        "dz0Wh62rNUgB",
        "ZTaHiwcSM0Nq",
        "ZAk_VCszM56B",
        "Lf5Z_2ZGOsWG"
      ],
      "authorship_tag": "ABX9TyPuqnCCwIUn+XWoWjkyTAz1",
      "include_colab_link": true
    },
    "kernelspec": {
      "name": "python3",
      "display_name": "Python 3"
    },
    "language_info": {
      "name": "python"
    }
  },
  "cells": [
    {
      "cell_type": "markdown",
      "metadata": {
        "id": "view-in-github",
        "colab_type": "text"
      },
      "source": [
        "<a href=\"https://colab.research.google.com/github/nnilayy/LLMs-And-Transformers/blob/main/Finetuning_LLMs.ipynb\" target=\"_parent\"><img src=\"https://colab.research.google.com/assets/colab-badge.svg\" alt=\"Open In Colab\"/></a>"
      ]
    },
    {
      "cell_type": "markdown",
      "source": [
        "## Download HF Libraries"
      ],
      "metadata": {
        "id": "niPYRVvZMWxd"
      }
    },
    {
      "cell_type": "code",
      "source": [
        "!pip install transformers -U\n",
        "!pip install datasets -U\n",
        "!pip install accelerate -U\n",
        "!pip install evaluate -U"
      ],
      "metadata": {
        "id": "LK14Au0FKho5"
      },
      "execution_count": null,
      "outputs": []
    },
    {
      "cell_type": "markdown",
      "source": [
        "## Setting Up Device & Google Drive"
      ],
      "metadata": {
        "id": "zDzlsa_bMIMJ"
      }
    },
    {
      "cell_type": "code",
      "source": [
        "import torch\n",
        "print(torch.__version__)\n",
        "device=torch.device('cuda' if torch.cuda.is_available() else 'cpu')\n",
        "device\n",
        "# torch.cuda.empty_cache()"
      ],
      "metadata": {
        "id": "XSrhmqpJLU8c",
        "colab": {
          "base_uri": "https://localhost:8080/"
        },
        "outputId": "a7f52b68-9208-477b-8997-c21d85be14f8"
      },
      "execution_count": null,
      "outputs": [
        {
          "output_type": "stream",
          "name": "stdout",
          "text": [
            "2.0.1+cu118\n"
          ]
        },
        {
          "output_type": "execute_result",
          "data": {
            "text/plain": [
              "device(type='cpu')"
            ]
          },
          "metadata": {},
          "execution_count": 5
        }
      ]
    },
    {
      "cell_type": "code",
      "source": [
        "from google.colab import drive\n",
        "drive.mount('/content/drive')"
      ],
      "metadata": {
        "id": "kobxrIm6MHPf"
      },
      "execution_count": null,
      "outputs": []
    },
    {
      "cell_type": "markdown",
      "source": [
        "## Importing and PreProcessing Dataset ❌"
      ],
      "metadata": {
        "id": "0wY3SdUwMLW8"
      }
    },
    {
      "cell_type": "code",
      "source": [
        "from transformers import AutoTokenizer, DataCollatorWithPadding\n",
        "from datasets import load_dataset\n",
        "\n",
        "# Tokenizer\n",
        "tokenizer = AutoTokenizer.from_pretrained(\"bert-base-uncased\")\n",
        "\n",
        "# Train, Test, Valid Dataset\n",
        "# train_dataset = load_dataset(\"rotten_tomatoes\",split='train')\n",
        "# test_dataset = load_dataset(\"rotten_tomatoes\",split='test')\n",
        "# validation_dataset = load_dataset(\"rotten_tomatoes\",split='validation')\n",
        "\n",
        "\n",
        "# Entire Dataset\n",
        "dataset=load_dataset(\"rotten_tomatoes\")\n",
        "\n",
        "# Data Collator\n",
        "data_collator = DataCollatorWithPadding(tokenizer=tokenizer)"
      ],
      "metadata": {
        "id": "JsJPerOekKSv"
      },
      "execution_count": null,
      "outputs": []
    },
    {
      "cell_type": "code",
      "source": [
        "for i in range(500):\n",
        "  print(dataset['train']['labels'][i].item())"
      ],
      "metadata": {
        "id": "EPS5hscsU9-Z"
      },
      "execution_count": null,
      "outputs": []
    },
    {
      "cell_type": "code",
      "source": [
        "dataset.column_names"
      ],
      "metadata": {
        "id": "kfNOcA6bZ_6M"
      },
      "execution_count": null,
      "outputs": []
    },
    {
      "cell_type": "code",
      "source": [
        "# Sample Small Dataset\n",
        "small_train_dataset = train_dataset.shuffle(seed=42).select(range(100))\n",
        "small_eval_dataset = test_dataset.shuffle(seed=42).select(range(100))\n",
        "train_dataset[0]"
      ],
      "metadata": {
        "id": "dVmkWbkNO-zU"
      },
      "execution_count": null,
      "outputs": []
    },
    {
      "cell_type": "code",
      "source": [
        "# Preprocessing Function\n",
        "def tokenization(example):\n",
        "    return tokenizer(example[\"text\"],\n",
        "                     padding=True,\n",
        "                     truncation=True,\n",
        "                     max_length=512)"
      ],
      "metadata": {
        "id": "Rc4M9QNbk8Tm"
      },
      "execution_count": null,
      "outputs": []
    },
    {
      "cell_type": "code",
      "source": [
        "# train_dataset = train_dataset.map(tokenization,batched=True,batch_size=1000,num_proc=2,\n",
        "#                                   # remove_columns=dataset.column_names\n",
        "#                                   )\n",
        "# test_dataset = test_dataset.map(tokenization,batched=True,batch_size=1000,num_proc=2,\n",
        "#                                 # remove_columns=dataset.column_names\n",
        "#                                 )\n",
        "# validation_dataset = validation_dataset.map(tokenization,batched=True,batch_size=1000,num_proc=2,\n",
        "#                                             # remove_columns=dataset.column_names\n",
        "#                                             )\n",
        "\n",
        "dataset=dataset.map(tokenization,batched=True,num_proc=2,\n",
        "                                   # remove_columns=dataset.column_names\n",
        "                                   )"
      ],
      "metadata": {
        "id": "EaHoJCyKSHXA"
      },
      "execution_count": null,
      "outputs": []
    },
    {
      "cell_type": "code",
      "source": [
        "dataset.column_names"
      ],
      "metadata": {
        "id": "wf5jXOvzKdrE"
      },
      "execution_count": null,
      "outputs": []
    },
    {
      "cell_type": "code",
      "source": [
        "# Dropping, Renaming Columns and Formatting dataset\n",
        "# Desired Columns: ['labels', 'input_ids', 'token_type_ids', 'attention_mask']\n",
        "dataset=dataset.remove_columns([\"text\"])\n",
        "dataset=dataset.rename_column(\"label\", \"labels\")\n",
        "sets=['train','test','validation']\n",
        "for set_type in sets:\n",
        "  dataset[set_type].format['type']\n",
        "  dataset[set_type].column_names"
      ],
      "metadata": {
        "id": "wOAz4C1wV6Pa"
      },
      "execution_count": null,
      "outputs": []
    },
    {
      "cell_type": "code",
      "source": [
        "train_dataset=dataset['train']\n",
        "test_dataset=dataset['test']\n",
        "validation_dataset=dataset['validation']"
      ],
      "metadata": {
        "id": "7FOLKFtdUXOA"
      },
      "execution_count": null,
      "outputs": []
    },
    {
      "cell_type": "markdown",
      "source": [
        "## Custom Dataset"
      ],
      "metadata": {
        "id": "HUu5u_u4neF7"
      }
    },
    {
      "cell_type": "code",
      "source": [
        "# Custom Dataset"
      ],
      "metadata": {
        "id": "VnmBWqgNnhQi"
      },
      "execution_count": null,
      "outputs": []
    },
    {
      "cell_type": "markdown",
      "source": [
        "## DataLoader"
      ],
      "metadata": {
        "id": "dz0Wh62rNUgB"
      }
    },
    {
      "cell_type": "code",
      "source": [
        "# DataLoader\n",
        "from torch.utils.data import DataLoader\n",
        "batch_size=256\n",
        "train_loader=DataLoader(train_dataset, batch_size=batch_size,shuffle=True, num_workers=0,collate_fn=data_collator)\n",
        "test_loader=DataLoader(test_dataset, batch_size=batch_size,shuffle=False, num_workers=0,collate_fn=data_collator)\n",
        "validation_loader=DataLoader(validation_dataset, batch_size=batch_size,shuffle=False, num_workers=0,collate_fn=data_collator)"
      ],
      "metadata": {
        "id": "Hs2FiV-8J0Tj"
      },
      "execution_count": null,
      "outputs": []
    },
    {
      "cell_type": "markdown",
      "source": [
        "## Loading Model ❌"
      ],
      "metadata": {
        "id": "ZTaHiwcSM0Nq"
      }
    },
    {
      "cell_type": "code",
      "source": [
        "# Loading Model\n",
        "from transformers import AutoModelForSequenceClassification\n",
        "num_labels=2\n",
        "model = AutoModelForSequenceClassification.from_pretrained(\"bert-base-cased\", num_labels=num_labels)\n",
        "\n",
        "# Load the pre-trained BERT model and tokenizer\n",
        "# model = BertModel.from_pretrained(\"bert-base-uncased\")"
      ],
      "metadata": {
        "id": "HV6F-aRSJvl2"
      },
      "execution_count": null,
      "outputs": []
    },
    {
      "cell_type": "markdown",
      "source": [
        "## Tuning Models"
      ],
      "metadata": {
        "id": "QWrOTF7RxvEZ"
      }
    },
    {
      "cell_type": "code",
      "source": [
        "from torch import nn\n",
        "class MyModel(nn.Module):\n",
        "    def __init__(self):\n",
        "        super(MyModel, self).__init__()\n",
        "        self.bert = model\n",
        "        self.fc = nn.Linear(768, 2)  # Adjust the output size according to your task\n",
        "\n",
        "    def forward(self, input_ids, attention_mask):  # Add the 'labels' argument\n",
        "        outputs = self.bert(input_ids, attention_mask=attention_mask)\n",
        "        pooled_output = outputs.pooler_output\n",
        "        logits = self.fc(pooled_output)\n",
        "        return logits\n"
      ],
      "metadata": {
        "id": "vcIxHzAGxy4K"
      },
      "execution_count": null,
      "outputs": []
    },
    {
      "cell_type": "code",
      "source": [
        "from torchsummary import summary\n",
        "model=MyModel()\n",
        "model.to(device)\n",
        "# summary(model,(1,28,128))"
      ],
      "metadata": {
        "id": "tUaWS1YayLWd"
      },
      "execution_count": null,
      "outputs": []
    },
    {
      "cell_type": "markdown",
      "source": [
        "## Setting Up Optimizer and LR Scheduler"
      ],
      "metadata": {
        "id": "ZAk_VCszM56B"
      }
    },
    {
      "cell_type": "code",
      "source": [
        "# Optimizers\n",
        "from torch.optim import AdamW\n",
        "optimizer = AdamW(model.parameters(), lr=5e-5)"
      ],
      "metadata": {
        "id": "g_bwVQC9JmVi"
      },
      "execution_count": null,
      "outputs": []
    },
    {
      "cell_type": "code",
      "source": [
        "# Learning Rate Scheduler\n",
        "from transformers import get_scheduler\n",
        "num_epochs = 3\n",
        "num_training_steps = num_epochs * len(train_loader)\n",
        "lr_scheduler = get_scheduler(\n",
        "    name=\"linear\", optimizer=optimizer, num_warmup_steps=0, num_training_steps=num_training_steps\n",
        ")"
      ],
      "metadata": {
        "id": "Kli0Zo29JcXq"
      },
      "execution_count": null,
      "outputs": []
    },
    {
      "cell_type": "markdown",
      "source": [
        "## Training and Testing Loops"
      ],
      "metadata": {
        "id": "FnEfG3UdM-8z"
      }
    },
    {
      "cell_type": "code",
      "source": [
        "# Training Loop\n",
        "from tqdm.auto import tqdm\n",
        "progress_bar = tqdm(range(num_training_steps))\n",
        "\n",
        "model.train()\n",
        "for epoch in range(num_epochs):\n",
        "    for data in train_loader:\n",
        "        outputs = model(input_ids=data['input_ids'], attention_mask=data['attention_mask'])\n",
        "        loss = outputs.loss\n",
        "        loss.backward()\n",
        "\n",
        "        optimizer.step()\n",
        "        lr_scheduler.step()\n",
        "        optimizer.zero_grad()\n",
        "        progress_bar.update(1)"
      ],
      "metadata": {
        "id": "DsSjniM1JYrl"
      },
      "execution_count": null,
      "outputs": []
    },
    {
      "cell_type": "code",
      "source": [
        "# Evaluation Loop\n",
        "import evaluate\n",
        "\n",
        "metric = evaluate.load(\"accuracy\")\n",
        "model.eval()\n",
        "for batch in eval_dataloader:\n",
        "    batch = {k: v.to(device) for k, v in batch.items()}\n",
        "    with torch.no_grad():\n",
        "        outputs = model(**batch)\n",
        "\n",
        "    logits = outputs.logits\n",
        "    predictions = torch.argmax(logits, dim=-1)\n",
        "    metric.add_batch(predictions=predictions, references=batch[\"labels\"])\n",
        "\n",
        "metric.compute()"
      ],
      "metadata": {
        "id": "dfoMq9eHJVC7"
      },
      "execution_count": null,
      "outputs": []
    },
    {
      "cell_type": "code",
      "source": [
        "from accelerate import Accelerator\n",
        "from transformers import AdamW, AutoModelForSequenceClassification, get_scheduler\n",
        "\n",
        "accelerator = Accelerator()\n",
        "\n",
        "model = AutoModelForSequenceClassification.from_pretrained(checkpoint, num_labels=2)\n",
        "optimizer = AdamW(model.parameters(), lr=3e-5)\n",
        "\n",
        "train_dl, eval_dl, model, optimizer = accelerator.prepare(\n",
        "    train_dataloader, eval_dataloader, model, optimizer\n",
        ")\n",
        "\n",
        "num_epochs = 3\n",
        "num_training_steps = num_epochs * len(train_dl)\n",
        "lr_scheduler = get_scheduler(\n",
        "    \"linear\",\n",
        "    optimizer=optimizer,\n",
        "    num_warmup_steps=0,\n",
        "    num_training_steps=num_training_steps,\n",
        ")\n",
        "\n",
        "progress_bar = tqdm(range(num_training_steps))\n",
        "\n",
        "model.train()\n",
        "for epoch in range(num_epochs):\n",
        "    for batch in train_dl:\n",
        "        outputs = model(**batch)\n",
        "        loss = outputs.loss\n",
        "        accelerator.backward(loss)\n",
        "\n",
        "        optimizer.step()\n",
        "        lr_scheduler.step()\n",
        "        optimizer.zero_grad()\n",
        "        progress_bar.update(1)"
      ],
      "metadata": {
        "id": "Z84AotNIiQYW"
      },
      "execution_count": null,
      "outputs": []
    },
    {
      "cell_type": "markdown",
      "source": [
        "## Saving Model and Tokenizer"
      ],
      "metadata": {
        "id": "Lf5Z_2ZGOsWG"
      }
    },
    {
      "cell_type": "code",
      "source": [],
      "metadata": {
        "id": "BXBZo9GMOxO8"
      },
      "execution_count": null,
      "outputs": []
    },
    {
      "cell_type": "markdown",
      "source": [
        "## Useful Functions"
      ],
      "metadata": {
        "id": "GEoFZeP1TkeF"
      }
    },
    {
      "cell_type": "code",
      "source": [
        "# Renaming\n",
        "dataset = dataset.rename_column(\"sentence1\", \"sentenceA\")\n",
        "dataset = dataset.rename_column(\"sentence2\", \"sentenceB\")\n",
        "dataset\n",
        "\n",
        "# Removing Columns\n",
        "dataset = dataset.remove_columns(\"label\")\n",
        "dataset = dataset.remove_columns(['sentence1', 'sentence2'])"
      ],
      "metadata": {
        "id": "DGi-KVQKTo3n"
      },
      "execution_count": null,
      "outputs": []
    },
    {
      "cell_type": "code",
      "source": [
        "from datasets import load_dataset\n",
        "from transformers import AutoTokenizer, DataCollatorWithPadding\n",
        "\n",
        "raw_datasets = load_dataset(\"glue\", \"mrpc\")\n",
        "checkpoint = \"bert-base-uncased\"\n",
        "tokenizer = AutoTokenizer.from_pretrained(checkpoint)\n",
        "\n",
        "\n",
        "def tokenize_function(example):\n",
        "    return tokenizer(example[\"sentence1\"], example[\"sentence2\"], truncation=True)\n",
        "\n",
        "\n",
        "tokenized_datasets = raw_datasets.map(tokenize_function, batched=True)\n",
        "data_collator = DataCollatorWithPadding(tokenizer=tokenizer)"
      ],
      "metadata": {
        "id": "8Xk1KfMlUdXR"
      },
      "execution_count": null,
      "outputs": []
    },
    {
      "cell_type": "code",
      "source": [
        "tokenized_datasets['train'][0]"
      ],
      "metadata": {
        "id": "laSXiapiUlQW"
      },
      "execution_count": null,
      "outputs": []
    },
    {
      "cell_type": "code",
      "source": [
        "tokenized_datasets=tokenized_datasets.remove_columns([\"sentence1\", \"sentence2\", \"idx\"])\n",
        "tokenized_datasets=tokenized_datasets.rename_column(\"label\", \"labels\")\n",
        "tokenized_datasets.set_format(\"torch\")\n",
        "tokenized_datasets[\"train\"].column_names"
      ],
      "metadata": {
        "colab": {
          "base_uri": "https://localhost:8080/"
        },
        "id": "Ku-v4azrUnpw",
        "outputId": "51aca6c9-9e14-4ed3-ad82-4d7906f2d5a8"
      },
      "execution_count": null,
      "outputs": [
        {
          "output_type": "execute_result",
          "data": {
            "text/plain": [
              "['labels', 'input_ids', 'token_type_ids', 'attention_mask']"
            ]
          },
          "metadata": {},
          "execution_count": 42
        }
      ]
    },
    {
      "cell_type": "code",
      "source": [
        "from transformers import BertModel, BertTokenizer\n",
        "import torch\n",
        "from torch.utils.data import DataLoader, TensorDataset\n",
        "import torch.nn as nn\n",
        "import torch.optim as optim\n",
        "\n",
        "# Load the pre-trained BERT model and tokenizer\n",
        "model_name = \"bert-base-uncased\"\n",
        "model = BertModel.from_pretrained(model_name)\n",
        "tokenizer = BertTokenizer.from_pretrained(model_name)\n",
        "\n",
        "# Define the housing dataset\n",
        "housing_data = [\n",
        "    {\"square_feet\": 1500, \"num_bedrooms\": 3, \"num_bathrooms\": 2, \"label\": 1},\n",
        "    {\"square_feet\": 2000, \"num_bedrooms\": 4, \"num_bathrooms\": 3, \"label\": 0},\n",
        "    {\"square_feet\": 1200, \"num_bedrooms\": 2, \"num_bathrooms\": 1, \"label\": 1},\n",
        "]\n",
        "\n",
        "# Preprocess the dataset\n",
        "input_texts = []\n",
        "labels = []\n",
        "\n",
        "for data in housing_data:\n",
        "    square_feet = str(data[\"square_feet\"])\n",
        "    num_bedrooms = str(data[\"num_bedrooms\"])\n",
        "    num_bathrooms = str(data[\"num_bathrooms\"])\n",
        "\n",
        "    input_text = f\"Square Feet: {square_feet}, Bedrooms: {num_bedrooms}, Bathrooms: {num_bathrooms}\"\n",
        "    input_texts.append(input_text)\n",
        "    labels.append(data[\"label\"])\n",
        "\n",
        "# Tokenize the input texts\n",
        "tokenized_inputs = tokenizer(input_texts, padding=True, truncation=True, return_tensors=\"pt\")\n",
        "\n",
        "# Prepare input tensors and labels\n",
        "input_ids = tokenized_inputs[\"input_ids\"]\n",
        "attention_mask = tokenized_inputs[\"attention_mask\"]\n",
        "labels = torch.tensor(labels)\n",
        "\n",
        "# Create a DataLoader for batching\n",
        "dataset = TensorDataset(input_ids, attention_mask, labels)\n",
        "dataloader = DataLoader(dataset, batch_size=2, shuffle=True)\n",
        "\n",
        "# Define the model architecture\n",
        "class MyModel(nn.Module):\n",
        "    def __init__(self):\n",
        "        super(MyModel, self).__init__()\n",
        "        self.bert = model\n",
        "        self.fc = nn.Linear(768, 2)  # Adjust the output size according to your task\n",
        "\n",
        "    def forward(self, input_ids, attention_mask):\n",
        "        outputs = self.bert(input_ids, attention_mask=attention_mask)\n",
        "        pooled_output = outputs.pooler_output\n",
        "        logits = self.fc(pooled_output)\n",
        "        return logits\n",
        "\n",
        "# Create an instance of the model\n",
        "model = MyModel()\n",
        "\n",
        "# Define the loss function and optimizer\n",
        "criterion = nn.CrossEntropyLoss()\n",
        "optimizer = optim.Adam(model.parameters(), lr=0.001)\n",
        "\n",
        "# Training loop\n",
        "epochs = 10\n",
        "\n",
        "for epoch in range(epochs):\n",
        "    running_loss = 0.0\n",
        "\n",
        "    for inputs, masks, labels in dataloader:\n",
        "        optimizer.zero_grad()\n",
        "\n",
        "        # Forward pass\n",
        "        logits = model(inputs, masks)\n",
        "        loss = criterion(logits, labels)\n",
        "\n",
        "        # Backward pass and optimization\n",
        "        loss.backward()\n",
        "        optimizer.step()\n",
        "\n",
        "        running_loss += loss.item()\n",
        "\n",
        "    epoch_loss = running_loss / len(dataloader)\n",
        "    print(f\"Epoch {epoch+1}/{epochs} - Loss: {epoch_loss:.4f}\")\n"
      ],
      "metadata": {
        "colab": {
          "base_uri": "https://localhost:8080/"
        },
        "id": "Rj70hWyUsTjN",
        "outputId": "c6dbbc5f-94c0-4530-84e2-783ef51e50de"
      },
      "execution_count": null,
      "outputs": [
        {
          "output_type": "stream",
          "name": "stderr",
          "text": [
            "Some weights of the model checkpoint at bert-base-uncased were not used when initializing BertModel: ['cls.predictions.bias', 'cls.predictions.transform.dense.weight', 'cls.predictions.transform.dense.bias', 'cls.predictions.transform.LayerNorm.bias', 'cls.seq_relationship.weight', 'cls.predictions.transform.LayerNorm.weight', 'cls.seq_relationship.bias']\n",
            "- This IS expected if you are initializing BertModel from the checkpoint of a model trained on another task or with another architecture (e.g. initializing a BertForSequenceClassification model from a BertForPreTraining model).\n",
            "- This IS NOT expected if you are initializing BertModel from the checkpoint of a model that you expect to be exactly identical (initializing a BertForSequenceClassification model from a BertForSequenceClassification model).\n"
          ]
        },
        {
          "output_type": "stream",
          "name": "stdout",
          "text": [
            "Epoch 1/10 - Loss: 0.5054\n",
            "Epoch 2/10 - Loss: 0.9691\n",
            "Epoch 3/10 - Loss: 2.1802\n",
            "Epoch 4/10 - Loss: 0.6162\n",
            "Epoch 5/10 - Loss: 1.5451\n",
            "Epoch 6/10 - Loss: 0.7947\n",
            "Epoch 7/10 - Loss: 0.7743\n",
            "Epoch 8/10 - Loss: 0.5414\n",
            "Epoch 9/10 - Loss: 0.5629\n",
            "Epoch 10/10 - Loss: 0.6441\n"
          ]
        }
      ]
    },
    {
      "cell_type": "code",
      "source": [
        "tokenized_inputs"
      ],
      "metadata": {
        "colab": {
          "base_uri": "https://localhost:8080/"
        },
        "id": "lC1fX5BvBseF",
        "outputId": "72e7223e-019a-4f56-874b-d6fcdf7d9b0e"
      },
      "execution_count": null,
      "outputs": [
        {
          "output_type": "execute_result",
          "data": {
            "text/plain": [
              "{'input_ids': tensor([[  101,  2675,  2519,  1024, 10347,  1010, 18390,  1024,  1017,  1010,\n",
              "         28942,  1024,  1016,   102],\n",
              "        [  101,  2675,  2519,  1024,  2456,  1010, 18390,  1024,  1018,  1010,\n",
              "         28942,  1024,  1017,   102],\n",
              "        [  101,  2675,  2519,  1024, 14840,  1010, 18390,  1024,  1016,  1010,\n",
              "         28942,  1024,  1015,   102]]), 'token_type_ids': tensor([[0, 0, 0, 0, 0, 0, 0, 0, 0, 0, 0, 0, 0, 0],\n",
              "        [0, 0, 0, 0, 0, 0, 0, 0, 0, 0, 0, 0, 0, 0],\n",
              "        [0, 0, 0, 0, 0, 0, 0, 0, 0, 0, 0, 0, 0, 0]]), 'attention_mask': tensor([[1, 1, 1, 1, 1, 1, 1, 1, 1, 1, 1, 1, 1, 1],\n",
              "        [1, 1, 1, 1, 1, 1, 1, 1, 1, 1, 1, 1, 1, 1],\n",
              "        [1, 1, 1, 1, 1, 1, 1, 1, 1, 1, 1, 1, 1, 1]])}"
            ]
          },
          "metadata": {},
          "execution_count": 27
        }
      ]
    }
  ]
}